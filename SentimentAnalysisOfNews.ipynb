{
 "cells": [
  {
   "cell_type": "code",
   "execution_count": 93,
   "metadata": {
    "collapsed": true
   },
   "outputs": [],
   "source": [
    "import tweepy\n",
    "import json\n",
    "from twitter__api import (api_key, api_secret, access_token, access_token_secret)\n",
    "import pandas as pd\n",
    "import numpy as np\n",
    "import matplotlib.pyplot as plt\n",
    "from datetime import datetime\n",
    "\n",
    "from vaderSentiment.vaderSentiment import SentimentIntensityAnalyzer\n",
    "analyzer = SentimentIntensityAnalyzer()\n",
    "\n",
    "# Setup Tweepy API Authentication\n",
    "auth = tweepy.OAuthHandler(api_key, api_secret)\n",
    "auth.set_access_token(access_token, access_token_secret)\n",
    "api = tweepy.API(auth, parser=tweepy.parsers.JSONParser())"
   ]
  },
  {
   "cell_type": "code",
   "execution_count": 94,
   "metadata": {},
   "outputs": [
    {
     "name": "stdout",
     "output_type": "stream",
     "text": [
      "('@BBC', '@CBS', '@CNN', '@FoxNews', '@nytimes')\n"
     ]
    }
   ],
   "source": [
    "target_users = (\"@BBC\", \"@CBS\", \"@CNN\", \"@FoxNews\", \"@nytimes\")\n",
    "print(target_users)"
   ]
  },
  {
   "cell_type": "code",
   "execution_count": 95,
   "metadata": {
    "scrolled": true
   },
   "outputs": [],
   "source": [
    "# target_user = input('Please choose one news platform from above list for sentiments analysis ')"
   ]
  },
  {
   "cell_type": "code",
   "execution_count": 96,
   "metadata": {},
   "outputs": [],
   "source": [
    "# print(target_user)"
   ]
  },
  {
   "cell_type": "code",
   "execution_count": 97,
   "metadata": {
    "collapsed": true
   },
   "outputs": [],
   "source": [
    "# Target Account\n",
    "\n",
    "target_user = \"@CNN\"\n",
    "\n",
    "# Counter\n",
    "counter = 1\n",
    "\n",
    "# Variables for holding sentiments\n",
    "sentiments = []\n",
    "\n",
    "# Loop through 5 pages of tweets (total 100 tweets)\n",
    "for x in range(5):\n",
    "\n",
    "    # Get all tweets from home feed\n",
    "    public_tweets = api.user_timeline(target_user)\n",
    "\n",
    "    # Loop through all tweets \n",
    "    for tweet in public_tweets:\n",
    "\n",
    "        \n",
    "        # Run Vader Analysis on each tweet\n",
    "        results = analyzer.polarity_scores(tweet[\"text\"])\n",
    "        compound = results[\"compound\"]\n",
    "        pos = results[\"pos\"]\n",
    "        neu = results[\"neu\"]\n",
    "        neg = results[\"neg\"]\n",
    "        tweets_ago = counter\n",
    "        \n",
    "        # print(json.dumps(tweet, indent = 4 , sort_keys = True))\n",
    "        # Add sentiments for each tweet into an array\n",
    "        sentiments.append({\"Date\": tweet[\"created_at\"],\n",
    "                           'Text': tweet['text'], \n",
    "                           'Source': tweet['source'],\n",
    "                           \"Compound\": compound,\n",
    "                           \"Positive\": pos,\n",
    "                           \"Negative\": neu,\n",
    "                           \"Neutral\": neg,\n",
    "                           \"Tweets Ago\": counter})\n",
    "        \n",
    "        # Add to counter \n",
    "        counter = counter + 1\n"
   ]
  },
  {
   "cell_type": "code",
   "execution_count": 98,
   "metadata": {},
   "outputs": [
    {
     "data": {
      "text/plain": [
       "100"
      ]
     },
     "execution_count": 98,
     "metadata": {},
     "output_type": "execute_result"
    }
   ],
   "source": [
    "len(sentiments)"
   ]
  },
  {
   "cell_type": "code",
   "execution_count": 99,
   "metadata": {
    "scrolled": true
   },
   "outputs": [
    {
     "data": {
      "text/html": [
       "<div>\n",
       "<style>\n",
       "    .dataframe thead tr:only-child th {\n",
       "        text-align: right;\n",
       "    }\n",
       "\n",
       "    .dataframe thead th {\n",
       "        text-align: left;\n",
       "    }\n",
       "\n",
       "    .dataframe tbody tr th {\n",
       "        vertical-align: top;\n",
       "    }\n",
       "</style>\n",
       "<table border=\"1\" class=\"dataframe\">\n",
       "  <thead>\n",
       "    <tr style=\"text-align: right;\">\n",
       "      <th></th>\n",
       "      <th>Compound</th>\n",
       "      <th>Date</th>\n",
       "      <th>Negative</th>\n",
       "      <th>Neutral</th>\n",
       "      <th>Positive</th>\n",
       "      <th>Source</th>\n",
       "      <th>Text</th>\n",
       "      <th>Tweets Ago</th>\n",
       "    </tr>\n",
       "  </thead>\n",
       "  <tbody>\n",
       "    <tr>\n",
       "      <th>0</th>\n",
       "      <td>0.7804</td>\n",
       "      <td>Mon Nov 27 20:02:27 +0000 2017</td>\n",
       "      <td>0.713</td>\n",
       "      <td>0.000</td>\n",
       "      <td>0.287</td>\n",
       "      <td>&lt;a href=\"https://www.sprinklr.com\" rel=\"nofoll...</td>\n",
       "      <td>Make all your streams come true with a 1-month...</td>\n",
       "      <td>1</td>\n",
       "    </tr>\n",
       "    <tr>\n",
       "      <th>1</th>\n",
       "      <td>0.4019</td>\n",
       "      <td>Mon Nov 27 18:32:06 +0000 2017</td>\n",
       "      <td>0.803</td>\n",
       "      <td>0.000</td>\n",
       "      <td>0.197</td>\n",
       "      <td>&lt;a href=\"http://twitter.com\" rel=\"nofollow\"&gt;Tw...</td>\n",
       "      <td>Singer-songwriter @JoshGroban will headline th...</td>\n",
       "      <td>2</td>\n",
       "    </tr>\n",
       "    <tr>\n",
       "      <th>2</th>\n",
       "      <td>0.1867</td>\n",
       "      <td>Mon Nov 27 12:01:03 +0000 2017</td>\n",
       "      <td>0.916</td>\n",
       "      <td>0.000</td>\n",
       "      <td>0.084</td>\n",
       "      <td>&lt;a href=\"https://studio.twitter.com\" rel=\"nofo...</td>\n",
       "      <td>Tomorrow, don't miss @Harry_Styles perform alo...</td>\n",
       "      <td>3</td>\n",
       "    </tr>\n",
       "    <tr>\n",
       "      <th>3</th>\n",
       "      <td>-0.2263</td>\n",
       "      <td>Mon Nov 27 00:53:16 +0000 2017</td>\n",
       "      <td>0.909</td>\n",
       "      <td>0.091</td>\n",
       "      <td>0.000</td>\n",
       "      <td>&lt;a href=\"http://twitter.com\" rel=\"nofollow\"&gt;Tw...</td>\n",
       "      <td>Due to #NFL football overrun #CBS is delayed i...</td>\n",
       "      <td>4</td>\n",
       "    </tr>\n",
       "    <tr>\n",
       "      <th>4</th>\n",
       "      <td>0.4559</td>\n",
       "      <td>Mon Nov 27 00:16:34 +0000 2017</td>\n",
       "      <td>0.858</td>\n",
       "      <td>0.000</td>\n",
       "      <td>0.142</td>\n",
       "      <td>&lt;a href=\"http://twitter.com\" rel=\"nofollow\"&gt;Tw...</td>\n",
       "      <td>RT @RecordingAcad: Two days left 'til #GRAMMYs...</td>\n",
       "      <td>5</td>\n",
       "    </tr>\n",
       "  </tbody>\n",
       "</table>\n",
       "</div>"
      ],
      "text/plain": [
       "   Compound                            Date  Negative  Neutral  Positive  \\\n",
       "0    0.7804  Mon Nov 27 20:02:27 +0000 2017     0.713    0.000     0.287   \n",
       "1    0.4019  Mon Nov 27 18:32:06 +0000 2017     0.803    0.000     0.197   \n",
       "2    0.1867  Mon Nov 27 12:01:03 +0000 2017     0.916    0.000     0.084   \n",
       "3   -0.2263  Mon Nov 27 00:53:16 +0000 2017     0.909    0.091     0.000   \n",
       "4    0.4559  Mon Nov 27 00:16:34 +0000 2017     0.858    0.000     0.142   \n",
       "\n",
       "                                              Source  \\\n",
       "0  <a href=\"https://www.sprinklr.com\" rel=\"nofoll...   \n",
       "1  <a href=\"http://twitter.com\" rel=\"nofollow\">Tw...   \n",
       "2  <a href=\"https://studio.twitter.com\" rel=\"nofo...   \n",
       "3  <a href=\"http://twitter.com\" rel=\"nofollow\">Tw...   \n",
       "4  <a href=\"http://twitter.com\" rel=\"nofollow\">Tw...   \n",
       "\n",
       "                                                Text  Tweets Ago  \n",
       "0  Make all your streams come true with a 1-month...           1  \n",
       "1  Singer-songwriter @JoshGroban will headline th...           2  \n",
       "2  Tomorrow, don't miss @Harry_Styles perform alo...           3  \n",
       "3  Due to #NFL football overrun #CBS is delayed i...           4  \n",
       "4  RT @RecordingAcad: Two days left 'til #GRAMMYs...           5  "
      ]
     },
     "execution_count": 99,
     "metadata": {},
     "output_type": "execute_result"
    }
   ],
   "source": [
    "# Convert sentiments to DataFrame\n",
    "sentiments_pd = pd.DataFrame.from_dict(sentiments)\n",
    "sentiments_pd.head()"
   ]
  },
  {
   "cell_type": "code",
   "execution_count": 100,
   "metadata": {
    "collapsed": true
   },
   "outputs": [],
   "source": [
    "sentiments_pd.to_csv('SentimentAnalysisCNN.csv')"
   ]
  },
  {
   "cell_type": "code",
   "execution_count": 101,
   "metadata": {},
   "outputs": [
    {
     "data": {
      "image/png": "[encoded data removed]",
      "text/plain": [
       "<matplotlib.figure.Figure at 0x23a7eaa0198>"
      ]
     },
     "metadata": {},
     "output_type": "display_data"
    }
   ],
   "source": [
    "# Create plot\n",
    "plt.plot(np.arange(len(sentiments_pd[\"Compound\"])),\n",
    "         sentiments_pd[\"Compound\"], marker=\"o\", linewidth=0.5,\n",
    "         alpha=0.8, color = 'b', label = '@CNN')\n",
    "\n",
    "# # Incorporate the other graph properties\n",
    "now = datetime.now()\n",
    "now = now.strftime(\"%Y-%m-%d %H:%M\")\n",
    "plt.title(\"Sentiment Analysis of Tweets ({}) for {}\".format(now, target_user))\n",
    "plt.ylabel(\"Tweet Polarity\")\n",
    "plt.xlabel(\"Tweets Ago\")\n",
    "plt.ylim(-1, 1)\n",
    "art = []\n",
    "plt.style.use('seaborn-darkgrid')\n",
    "plt.legend(loc='center left', bbox_to_anchor=(1, 0.5))\n",
    "plt.savefig(\"SentimentAnalysisOfTweetsOfCBS\", additional_artists=art, bbox_inches=\"tight\")\n",
    "plt.show()"
   ]
  },
  {
   "cell_type": "code",
   "execution_count": null,
   "metadata": {
    "collapsed": true
   },
   "outputs": [],
   "source": []
  }
 ],
 "metadata": {
  "kernelspec": {
   "display_name": "Python 3",
   "language": "python",
   "name": "python3"
  },
  "language_info": {
   "codemirror_mode": {
    "name": "ipython",
    "version": 3
   },
   "file_extension": ".py",
   "mimetype": "text/x-python",
   "name": "python",
   "nbconvert_exporter": "python",
   "pygments_lexer": "ipython3",
   "version": "3.6.2"
  }
 },
 "nbformat": 4,
 "nbformat_minor": 2
}
